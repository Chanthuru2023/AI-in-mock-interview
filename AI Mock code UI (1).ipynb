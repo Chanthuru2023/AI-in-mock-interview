{
 "cells": [
  {
   "cell_type": "code",
   "execution_count": 1,
   "id": "07cb1c85",
   "metadata": {},
   "outputs": [
    {
     "name": "stdout",
     "output_type": "stream",
     "text": [
      "8.6\n"
     ]
    }
   ],
   "source": [
    "import tkinter\n",
    "print(tkinter.TkVersion)\n"
   ]
  },
  {
   "cell_type": "code",
   "execution_count": 2,
   "id": "6ca95f20",
   "metadata": {},
   "outputs": [],
   "source": [
    "import tkinter as tk\n",
    "from tkinter import messagebox\n",
    "import speech_recognition as sr\n",
    "from transformers import pipeline\n",
    "from sklearn.feature_extraction.text import TfidfVectorizer\n",
    "from sklearn.metrics.pairwise import cosine_similarity\n"
   ]
  },
  {
   "cell_type": "code",
   "execution_count": 3,
   "id": "f61ad874",
   "metadata": {},
   "outputs": [],
   "source": [
    "class MockInterviewApp:\n",
    "    def __init__(self, master):\n",
    "        self.master = master\n",
    "        self.master.title(\"AI-Powered Mock Interview Tool\")\n",
    "\n",
    "        self.question_label = tk.Label(master, text=\"Interview Question:\")\n",
    "        self.question_label.pack(pady=10)\n",
    "\n",
    "        self.answer_label = tk.Label(master, text=\"Your Answer:\")\n",
    "        self.answer_label.pack(pady=10)\n",
    "\n",
    "        self.answer_text = tk.Text(master, height=5, width=50)\n",
    "        self.answer_text.pack(pady=10)\n",
    "\n",
    "        self.submit_button = tk.Button(master, text=\"Submit Answer\", command=self.submit_answer)\n",
    "        self.submit_button.pack(pady=10)\n",
    "\n",
    "        self.next_button = tk.Button(master, text=\"Next Question\", command=self.next_question)\n",
    "        self.next_button.pack(pady=10)\n",
    "\n",
    "        self.results_label = tk.Label(master, text=\"\")\n",
    "        self.results_label.pack(pady=10)\n",
    "\n",
    "        self.actual_answers = {\n",
    "            \"What is your greatest strength?\": \"My greatest strength is my ability to learn quickly and adapt to new situations.\",\n",
    "            \"Describe a challenge you faced at work.\": \"I faced a challenge when I had to complete a project with a tight deadline, but I prioritized tasks effectively and collaborated with my team to meet the deadline.\"\n",
    "        }\n",
    "        self.questions = list(self.actual_answers.keys())\n",
    "        self.current_question_index = -1\n",
    "\n",
    "        self.next_question()\n",
    "\n",
    "    def next_question(self):\n",
    "        self.current_question_index += 1\n",
    "        if self.current_question_index < len(self.questions):\n",
    "            question = self.questions[self.current_question_index]\n",
    "            self.question_label.config(text=question)\n",
    "            self.answer_text.delete(1.0, tk.END)\n",
    "            self.results_label.config(text=\"\")\n",
    "        else:\n",
    "            messagebox.showinfo(\"End of Interview\", \"Thank you for participating!\")\n",
    "            self.master.quit()\n",
    "\n",
    "    def submit_answer(self):\n",
    "        user_answer = self.answer_text.get(1.0, tk.END).strip()\n",
    "        if user_answer:\n",
    "            actual_answer = self.actual_answers[self.questions[self.current_question_index]]\n",
    "            similarity_score = self.calculate_similarity(user_answer, actual_answer)\n",
    "            self.results_label.config(text=f\"Similarity Score: {similarity_score:.2f}\")\n",
    "            if similarity_score > 0.7:  # Adjust threshold as needed\n",
    "                messagebox.showinfo(\"Result\", \"Your answer is quite similar to the expected answer.\")\n",
    "            else:\n",
    "                messagebox.showinfo(\"Result\", \"Your answer differs from the expected answer.\")\n",
    "        else:\n",
    "            messagebox.showwarning(\"Warning\", \"Please provide an answer.\")\n",
    "\n",
    "    def calculate_similarity(self, user_answer, actual_answer):\n",
    "        vectorizer = TfidfVectorizer()\n",
    "        tfidf_matrix = vectorizer.fit_transform([user_answer, actual_answer])\n",
    "        similarity = cosine_similarity(tfidf_matrix[0:1], tfidf_matrix[1:2])\n",
    "        return similarity[0][0]  # Return the similarity score\n",
    "\n",
    "if __name__ == \"__main__\":\n",
    "    root = tk.Tk()\n",
    "    app = MockInterviewApp(root)\n",
    "    root.mainloop()\n"
   ]
  },
  {
   "cell_type": "code",
   "execution_count": 4,
   "id": "c905b09f",
   "metadata": {},
   "outputs": [
    {
     "ename": "SyntaxError",
     "evalue": "invalid syntax (4088949813.py, line 1)",
     "output_type": "error",
     "traceback": [
      "\u001b[1;36m  File \u001b[1;32m\"C:\\Users\\HP\\AppData\\Local\\Temp\\ipykernel_3028\\4088949813.py\"\u001b[1;36m, line \u001b[1;32m1\u001b[0m\n\u001b[1;33m    python mock_interview_gui.py\u001b[0m\n\u001b[1;37m           ^\u001b[0m\n\u001b[1;31mSyntaxError\u001b[0m\u001b[1;31m:\u001b[0m invalid syntax\n"
     ]
    }
   ],
   "source": [
    "python mock_interview_gui.py\n"
   ]
  }
 ],
 "metadata": {
  "kernelspec": {
   "display_name": "Python 3 (ipykernel)",
   "language": "python",
   "name": "python3"
  },
  "language_info": {
   "codemirror_mode": {
    "name": "ipython",
    "version": 3
   },
   "file_extension": ".py",
   "mimetype": "text/x-python",
   "name": "python",
   "nbconvert_exporter": "python",
   "pygments_lexer": "ipython3",
   "version": "3.9.13"
  }
 },
 "nbformat": 4,
 "nbformat_minor": 5
}
